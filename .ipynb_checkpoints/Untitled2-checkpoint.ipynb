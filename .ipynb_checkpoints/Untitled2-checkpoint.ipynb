{
 "cells": [
  {
   "cell_type": "code",
   "execution_count": 6,
   "metadata": {
    "collapsed": true
   },
   "outputs": [],
   "source": [
    "import urllib.request\n",
    "from bs4 import BeautifulSoup\n",
    "import csv\n",
    "import pandas as pd\n",
    "import re\n",
    "from googlesearch import search"
   ]
  },
  {
   "cell_type": "code",
   "execution_count": 7,
   "metadata": {
    "collapsed": true
   },
   "outputs": [],
   "source": [
    "companies = pd.read_csv(\"C:/Users/hp/Desktop/DNA/Test.csv\", header = None)\n",
    "companies = companies[0].tolist()"
   ]
  },
  {
   "cell_type": "code",
   "execution_count": 8,
   "metadata": {
    "collapsed": true
   },
   "outputs": [],
   "source": [
    "def get_soup(url):\n",
    "    request = urllib.request.Request(url)\n",
    "    response = urllib.request.urlopen(request)\n",
    "    soup = BeautifulSoup(response, \"html.parser\")\n",
    "    return(soup)"
   ]
  },
  {
   "cell_type": "code",
   "execution_count": 9,
   "metadata": {
    "collapsed": true
   },
   "outputs": [],
   "source": [
    "def get_first_url(query):\n",
    "    for url in search(query, tld=\"com.sg\", num=1, stop=1, pause=2):\n",
    "        return url"
   ]
  },
  {
   "cell_type": "code",
   "execution_count": 10,
   "metadata": {
    "collapsed": true
   },
   "outputs": [],
   "source": [
    "def get_company_sector_from_wiki(url):\n",
    "    soup = get_soup(url)\n",
    "    infobox = soup.find(\"table\",{\"class\":\"infobox\"})\n",
    "    if infobox:\n",
    "        for tr in infobox.findAll(\"tr\")[1:]:\n",
    "            headers = tr.findAll(\"th\")\n",
    "            values = tr.findAll(\"td\")\n",
    "            if len(headers) == 1 and headers[0].text == \"Industry\": \n",
    "                return values[0].text\n",
    "    return url"
   ]
  },
  {
   "cell_type": "code",
   "execution_count": 26,
   "metadata": {
    "collapsed": true
   },
   "outputs": [],
   "source": [
    "\n",
    "def get_sector(companies):\n",
    "    urls = []\n",
    "    sector=[]\n",
    "    company_sector = {}\n",
    "    for company in companies:\n",
    "        company_details[company] = {}\n",
    "        query = company+\" pitchbook\"\n",
    "        url = get_first_url(query)\n",
    "        if url[:38] == \"https://pitchbook.com/profiles/company\":\n",
    "            soup = get_soup(url)\n",
    "            sector_tab = soup.find(\"div\", attrs={\"class\": \"info-item shift-bottom-XL-15\"})\n",
    "            if sector_tab !=None:\n",
    "                sector_name = sector_tab.find(\"div\", attrs={\"class\": \"info-item__value\"})\n",
    "                sector=sector_name.text.strip()\n",
    "                #print(company,\"--\", sector)\n",
    "                company_sector[company][\"sector\"] = sector\n",
    "            else:\n",
    "                query = company+\" wikipedia singapore\"\n",
    "                url = get_first_url(query)\n",
    "                sector = get_company_sector_from_wiki(url)\n",
    "                #print(company,\"--\", sector)\n",
    "                company_sector[company][\"sector\"] = sector\n",
    "        else:\n",
    "                query = company+\" wikipedia singapore\"\n",
    "                url = get_first_url(query)\n",
    "                sector = get_company_sector_from_wiki(url)\n",
    "                if sector[:8] != \"https://\":\n",
    "                    #print(company,\"--\", sector)\n",
    "                    company_sector[company][\"sector\"] = sector\n",
    "                else:\n",
    "                    #print(company, \"Sector Not Known\")\n",
    "                    company_sector[company][\"sector\"] = \"Sector Not Known\"\n",
    "    return company_sector"
   ]
  },
  {
   "cell_type": "code",
   "execution_count": 12,
   "metadata": {
    "collapsed": true
   },
   "outputs": [],
   "source": [
    "\n",
    "#address=[]\n",
    "def get_address(companies):\n",
    "    urls = []\n",
    "    company_contact = {}\n",
    "    for company in companies:\n",
    "        company_contact[company] = {}\n",
    "        query = company+\" pitchbook\"\n",
    "        url=get_first_url(query)\n",
    "        if url[:38] == \"https://pitchbook.com/profiles/company\":\n",
    "            soup = get_soup(url)\n",
    "            address=[]\n",
    "            for line in soup.findAll(\"li\", attrs={\"class\": \"info-item__value\"}):\n",
    "                add = line.text.strip()\n",
    "                address.append(add)\n",
    "                addr=\", \".join([str(x) for x in address])\n",
    "            #print(company, address)\n",
    "            company_contact[company][\"Address\"]= addr\n",
    "        else:\n",
    "            query = company+\" bloomberg snapshot\"\n",
    "            url=get_first_url(query)\n",
    "            if url[:58] == \"https://www.bloomberg.com/research/stocks/private/snapshot\":\n",
    "                soup = get_soup(url)\n",
    "                address = []\n",
    "                add_line = soup.find(\"div\", attrs={\"class\": \"detailsDataContainerLt\"})\n",
    "                addr=add_line.find(\"div\", attrs={\"itemprop\": \"address\"})\n",
    "                for p in addr.findAll(\"p\"):\n",
    "                    add=p.text.strip()\n",
    "                    address.append(add)\n",
    "                #print(company, address)\n",
    "                addr=\", \".join([str(x) for x in address])\n",
    "                company_contact[company][\"Address\"]= addr\n",
    "            else:\n",
    "                #print(company, \": Contact Details Not Available\") \n",
    "                company_contact[company][\"Address\"]= \"Contact Details Not Available\"\n",
    "    return company_contact"
   ]
  },
  {
   "cell_type": "code",
   "execution_count": 31,
   "metadata": {
    "collapsed": true
   },
   "outputs": [],
   "source": [
    "import requests\n",
    "def get_news_article(companies):\n",
    "    company_news = {}\n",
    "    for company in companies:\n",
    "        #print(company)\n",
    "        company_news[company] = {}\n",
    "        url = \"http://www.google.com.sg/search?q=\"+company+\"&tbm=nws&tbs=qdr:y\"\n",
    "        htmlpage = requests.get(url)\n",
    "        soup = BeautifulSoup(htmlpage.text,'html.parser')\n",
    "        for result_table in soup.find(\"div\", {\"class\": \"g\"}):\n",
    "            a_click = result_table.find(\"a\")\n",
    "        head=a_click.renderContents().decode('UTF-8').replace(\"<b>\",\"\").replace(\"</b>\",\"\")\n",
    "        link=str(a_click.get(\"href\"))[7:]\n",
    "        brief = result_table.find(\"div\", {\"class\": \"st\"}).renderContents().decode('UTF-8').replace(\"<b>\",\"\").replace(\"</b>\",\"\")\n",
    "        company_news[company][\"Title\"]=head\n",
    "        company_news[company][\"Brief\"]=brief\n",
    "        company_news[company][\"Link\"]=link\n",
    "    return company_news"
   ]
  },
  {
   "cell_type": "code",
   "execution_count": 27,
   "metadata": {},
   "outputs": [],
   "source": [
    "sec=get_sector(companies)\n",
    "#add=get_address(companies)"
   ]
  },
  {
   "cell_type": "code",
   "execution_count": 32,
   "metadata": {},
   "outputs": [
    {
     "data": {
      "text/plain": [
       "{'Teamstreamz': {'Brief': '... Lead for ASEAN; Dr Ettisan Karuppiah, Director (Developers Ecosystem) at NVIDIA Singapore; and Professor Ooi Beng Chin, Distinguished Professor of Computer Science at the National University of Singapore (NUS). It was moderated by Mr Jawahar Kanjilal, Founder of mobile sales cloud-based platform TeamStreamz\\xa0...',\n",
       "  'Link': 'https://www.tech.gov.sg/TechNews/Innovation/2017/06/Demystifying-AI-and-Big-Data&sa=U&ved=0ahUKEwiDn8yJ2u3aAhWJqI8KHcsLDwYQqQIIFigAMAA&usg=AOvVaw3ICV4eoSQV459-bvdHl0Di',\n",
       "  'Title': 'Demystifying AI and Big Data'},\n",
       " 'Trakomatic': {'Brief': 'BRIEF-M1 Ltd Says Subscribed Shares In Trakomatic Pte. Ltd. For S$3 Mln. Reuters Staff. 1 Min Read. April 6 (Reuters) - M1 Ltd: * SUBSCRIBED SHARES IN TRAKOMATIC PTE. LTD. FOR S$3 MILLION Source text for Eikon: Further company coverage: Our Standards:The Thomson Reuters Trust Principles. 1024 : 1214.',\n",
       "  'Link': 'https://www.reuters.com/article/brief-m1-ltd-says-subscribed-shares-in-t/brief-m1-ltd-says-subscribed-shares-in-trakomatic-pte-ltd-for-s3-mln-idUSFWN1RJ094&sa=U&ved=0ahUKEwiBqbqJ2u3aAhXHPI8KHW2KDdEQqQIIFigAMAA&usg=AOvVaw1l5pMT7MmXm9QaiE4RZzJn',\n",
       "  'Title': 'BRIEF-M1 Ltd Says Subscribed Shares In Trakomatic Pte. Ltd. For S ...'}}"
      ]
     },
     "execution_count": 32,
     "metadata": {},
     "output_type": "execute_result"
    }
   ],
   "source": [
    "news=get_news_article(companies)\n",
    "news"
   ]
  },
  {
   "cell_type": "code",
   "execution_count": 16,
   "metadata": {},
   "outputs": [
    {
     "data": {
      "text/plain": [
       "{'Teamstreamz': {'Address': '19200 Von Karman Avenue, Suite 500, Irvine, CA\\xa092612, United States'},\n",
       " 'Trakomatic': {'Address': 'Blk 73 Ayer Rajah Crescent, #03-01, Singapore, 139952, Singapore'}}"
      ]
     },
     "execution_count": 16,
     "metadata": {},
     "output_type": "execute_result"
    }
   ],
   "source": [
    "add"
   ]
  },
  {
   "cell_type": "code",
   "execution_count": 23,
   "metadata": {},
   "outputs": [],
   "source": [
    "sec.update(add)"
   ]
  },
  {
   "cell_type": "code",
   "execution_count": 24,
   "metadata": {},
   "outputs": [
    {
     "data": {
      "text/plain": [
       "{'Teamstreamz': {'Address': '19200 Von Karman Avenue, Suite 500, Irvine, CA\\xa092612, United States'},\n",
       " 'Trakomatic': {'Address': 'Blk 73 Ayer Rajah Crescent, #03-01, Singapore, 139952, Singapore'},\n",
       " 'addr': {'Teamstreamz': {'Address': '19200 Von Karman Avenue, Suite 500, Irvine, CA\\xa092612, United States'},\n",
       "  'Trakomatic': {'Address': 'Blk 73 Ayer Rajah Crescent, #03-01, Singapore, 139952, Singapore'}}}"
      ]
     },
     "execution_count": 24,
     "metadata": {},
     "output_type": "execute_result"
    }
   ],
   "source": [
    "sec"
   ]
  },
  {
   "cell_type": "code",
   "execution_count": null,
   "metadata": {
    "collapsed": true
   },
   "outputs": [],
   "source": []
  }
 ],
 "metadata": {
  "kernelspec": {
   "display_name": "Python 3",
   "language": "python",
   "name": "python3"
  },
  "language_info": {
   "codemirror_mode": {
    "name": "ipython",
    "version": 3
   },
   "file_extension": ".py",
   "mimetype": "text/x-python",
   "name": "python",
   "nbconvert_exporter": "python",
   "pygments_lexer": "ipython3",
   "version": "3.6.1"
  }
 },
 "nbformat": 4,
 "nbformat_minor": 2
}
