{
 "cells": [
  {
   "cell_type": "code",
   "execution_count": 8,
   "metadata": {
    "collapsed": true
   },
   "outputs": [],
   "source": [
    "import urllib.request\n",
    "from bs4 import BeautifulSoup\n",
    "import pandas as pd\n",
    "from googlesearch import search"
   ]
  },
  {
   "cell_type": "code",
   "execution_count": 15,
   "metadata": {
    "collapsed": true
   },
   "outputs": [],
   "source": [
    "companies = pd.read_csv(\"C:/Users/hp/Desktop/DNA/Test.csv\", header = None)\n",
    "companies = companies[0].tolist()"
   ]
  },
  {
   "cell_type": "code",
   "execution_count": 10,
   "metadata": {
    "collapsed": true
   },
   "outputs": [],
   "source": [
    "def get_soup(url):\n",
    "    request = urllib.request.Request(url)\n",
    "    response = urllib.request.urlopen(request)\n",
    "    soup = BeautifulSoup(response, \"html.parser\")\n",
    "    return(soup)"
   ]
  },
  {
   "cell_type": "code",
   "execution_count": 11,
   "metadata": {
    "collapsed": true
   },
   "outputs": [],
   "source": [
    "def get_first_url(query):\n",
    "    for url in search(query, tld=\"com.sg\", num=1, stop=1, pause=2):\n",
    "        return url"
   ]
  },
  {
   "cell_type": "code",
   "execution_count": 12,
   "metadata": {
    "collapsed": true
   },
   "outputs": [],
   "source": [
    "def get_company_sector_from_wiki(url):\n",
    "    soup = get_soup(url)\n",
    "    infobox = soup.find(\"table\",{\"class\":\"infobox\"})\n",
    "    if infobox:\n",
    "        for tr in infobox.findAll(\"tr\")[1:]:\n",
    "            headers = tr.findAll(\"th\")\n",
    "            values = tr.findAll(\"td\")\n",
    "            if len(headers) == 1 and headers[0].text == \"Industry\": \n",
    "                return values[0].text\n",
    "    return url"
   ]
  },
  {
   "cell_type": "code",
   "execution_count": 28,
   "metadata": {
    "collapsed": true
   },
   "outputs": [],
   "source": [
    "urls = []\n",
    "sector=[]\n",
    "def get_sector(companies):\n",
    "    urls = []\n",
    "    sector=[]\n",
    "    company_details = {}\n",
    "    for company in companies:\n",
    "        try:\n",
    "            company_details[company] = {}\n",
    "            query = company+\" pitchbook\"\n",
    "            url = get_first_url(query)\n",
    "            if url[:38] == \"https://pitchbook.com/profiles/company\":\n",
    "                soup = get_soup(url)\n",
    "                sector_tab = soup.find(\"div\", attrs={\"class\": \"info-item shift-bottom-XL-15\"})\n",
    "                if sector_tab !=None:\n",
    "                    sector_name = sector_tab.find(\"div\", attrs={\"class\": \"info-item__value\"})\n",
    "                    sector=sector_name.text.strip()\n",
    "                    #print(company,\"--\", sector)\n",
    "                    company_details[company][\"sector\"] = sector\n",
    "                else:\n",
    "                    query = company+\" wikipedia singapore\"\n",
    "                    url = get_first_url(query)\n",
    "                    sector = get_company_sector_from_wiki(url)\n",
    "                    #print(company,\"--\", sector)\n",
    "                    company_details[company][\"sector\"] = sector\n",
    "            else:\n",
    "                    query = company+\" wikipedia singapore\"\n",
    "                    url = get_first_url(query)\n",
    "                    sector = get_company_sector_from_wiki(url)\n",
    "                    if sector[:8] != \"https://\":\n",
    "                        #print(company,\"--\", sector)\n",
    "                        company_details[company][\"sector\"] = sector\n",
    "                    else:\n",
    "                        #print(company, \"Sector Not Known\")\n",
    "                        company_details[company][\"sector\"] = \"NA\"\n",
    "        except:\n",
    "            company_details[company][\"sector\"] = \"NA\"\n",
    "    return company_details"
   ]
  }
 ],
 "metadata": {
  "kernelspec": {
   "display_name": "Python 3",
   "language": "python",
   "name": "python3"
  },
  "language_info": {
   "codemirror_mode": {
    "name": "ipython",
    "version": 3
   },
   "file_extension": ".py",
   "mimetype": "text/x-python",
   "name": "python",
   "nbconvert_exporter": "python",
   "pygments_lexer": "ipython3",
   "version": "3.6.1"
  }
 },
 "nbformat": 4,
 "nbformat_minor": 2
}
