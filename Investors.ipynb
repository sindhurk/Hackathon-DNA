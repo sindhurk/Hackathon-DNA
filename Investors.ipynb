{
 "cells": [
  {
   "cell_type": "code",
   "execution_count": 1,
   "metadata": {
    "collapsed": true
   },
   "outputs": [],
   "source": [
    "import urllib.request\n",
    "from bs4 import BeautifulSoup\n",
    "import pandas as pd\n",
    "from googlesearch import search"
   ]
  },
  {
   "cell_type": "code",
   "execution_count": 35,
   "metadata": {
    "collapsed": true
   },
   "outputs": [],
   "source": [
    "companies = pd.read_csv(\"C:/Users/hp/Desktop/DNA/training_data.csv\", header = None)\n",
    "companies = companies[0].tolist()"
   ]
  },
  {
   "cell_type": "code",
   "execution_count": 3,
   "metadata": {
    "collapsed": true
   },
   "outputs": [],
   "source": [
    "def get_soup(url):\n",
    "    request = urllib.request.Request(url)\n",
    "    response = urllib.request.urlopen(request)\n",
    "    soup = BeautifulSoup(response, \"html.parser\")\n",
    "    return(soup)"
   ]
  },
  {
   "cell_type": "code",
   "execution_count": 4,
   "metadata": {
    "collapsed": true
   },
   "outputs": [],
   "source": [
    "def get_first_url(query):\n",
    "    for url in search(query, tld=\"com.sg\", num=1, stop=1, pause=3):\n",
    "        return url"
   ]
  },
  {
   "cell_type": "code",
   "execution_count": 36,
   "metadata": {},
   "outputs": [],
   "source": [
    "def get_address(companies):\n",
    "    company_details = {}\n",
    "    for company in companies:\n",
    "        company_details[company] = {}\n",
    "        query = company + \" pitchbook\"\n",
    "        url=get_first_url(query)\n",
    "        if url[:38] == \"https://pitchbook.com/profiles/company\":\n",
    "            soup = get_soup(url)\n",
    "            investor=[]\n",
    "            try:\n",
    "                for table in soup.findAll(\"div\", attrs={\"class\": \"data-table\"}):\n",
    "                    colname = table.find(\"th\", attrs = {\"class\": \"data-table__cell data-table__cell_align-left data-table__cell_max180\"})\n",
    "                    col=colname.text.strip()\n",
    "                    if col ==\"Investor Name\":\n",
    "                        for inv in table.findAll(\"td\", attrs={\"class\": \"data-table__cell data-table__cell_align-left\"}):\n",
    "                            invest = inv.text.strip()\n",
    "                            investor.append(invest)\n",
    "                            \n",
    "                        #print(company, investor)\n",
    "                company_details[company][\"Investors\"]= investor\n",
    "            except:\n",
    "                company_details[company][\"Investors\"]= \"NA\"\n",
    "                continue\n",
    "        else:\n",
    "            print(company, \"NA\")\n",
    "           \n",
    "    return company_details"
   ]
  },
  {
   "cell_type": "code",
   "execution_count": null,
   "metadata": {
    "collapsed": true
   },
   "outputs": [],
   "source": [
    "x=get_address(companies)\n",
    "x"
   ]
  }
 ],
 "metadata": {
  "kernelspec": {
   "display_name": "Python 3",
   "language": "python",
   "name": "python3"
  },
  "language_info": {
   "codemirror_mode": {
    "name": "ipython",
    "version": 3
   },
   "file_extension": ".py",
   "mimetype": "text/x-python",
   "name": "python",
   "nbconvert_exporter": "python",
   "pygments_lexer": "ipython3",
   "version": "3.6.1"
  }
 },
 "nbformat": 4,
 "nbformat_minor": 2
}
